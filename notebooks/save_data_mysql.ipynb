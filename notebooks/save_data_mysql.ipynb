{
 "cells": [
  {
   "cell_type": "markdown",
   "metadata": {},
   "source": [
    "# Configundando o MySQL"
   ]
  },
  {
   "cell_type": "code",
   "execution_count": 1,
   "metadata": {},
   "outputs": [],
   "source": [
    "with open('../mysql_user.txt', 'r') as file:\n",
    "    file_content = file.readlines()"
   ]
  },
  {
   "cell_type": "code",
   "execution_count": null,
   "metadata": {},
   "outputs": [],
   "source": [
    "import mysql.connector\n",
    "\n",
    "# create conection object\n",
    "cnx = mysql.connector.connect(\n",
    "    host=file_content[0],\n",
    "    user=file_content[1],\n",
    "    password=file_content[2]\n",
    ")\n",
    "\n",
    "print(cnx)"
   ]
  },
  {
   "cell_type": "code",
   "execution_count": 3,
   "metadata": {},
   "outputs": [],
   "source": [
    "# create a cursor\n",
    "cursor = cnx.cursor()"
   ]
  },
  {
   "cell_type": "markdown",
   "metadata": {},
   "source": [
    "### Criando um banco de dados"
   ]
  },
  {
   "cell_type": "code",
   "execution_count": 4,
   "metadata": {},
   "outputs": [],
   "source": [
    "cursor.execute('create database if not exists dbproducts;')"
   ]
  },
  {
   "cell_type": "code",
   "execution_count": null,
   "metadata": {},
   "outputs": [],
   "source": [
    "cursor.execute('show databases;')\n",
    "\n",
    "for db in cursor:\n",
    "    print(db)"
   ]
  },
  {
   "cell_type": "markdown",
   "metadata": {},
   "source": [
    "### Criando Tabela"
   ]
  },
  {
   "cell_type": "markdown",
   "metadata": {},
   "source": [
    "#### Descobrindo as Propriedades da Tabela"
   ]
  },
  {
   "cell_type": "code",
   "execution_count": 6,
   "metadata": {},
   "outputs": [],
   "source": [
    "import pandas as pd\n",
    "\n",
    "books_df = pd.read_csv('../data-processed/book_table.csv')\n"
   ]
  },
  {
   "cell_type": "code",
   "execution_count": null,
   "metadata": {},
   "outputs": [],
   "source": [
    "books_df.shape"
   ]
  },
  {
   "cell_type": "markdown",
   "metadata": {},
   "source": [
    "#### Criando a tabela"
   ]
  },
  {
   "cell_type": "code",
   "execution_count": 8,
   "metadata": {},
   "outputs": [],
   "source": [
    "cursor.execute(\"\"\"\n",
    "               create table if not exists dbproducts.books_table(\n",
    "                    id VARCHAR(100),\n",
    "                    product VARCHAR(100),\n",
    "                    product_category VARCHAR(100),\n",
    "                    price FLOAT(10,2),\n",
    "                    shipping_fee FLOAT(10,2),\n",
    "                    purchase_date DATE,\n",
    "                    seller VARCHAR(100),\n",
    "                    place_of_purchase VARCHAR(100),\n",
    "                    purchase_evaluation INT,\n",
    "                    payment_type VARCHAR(100),\n",
    "                    number_of_installments INT,\n",
    "                    latitude FLOAT(10,2),\n",
    "                    longitude FLOAT(10,2),\n",
    "                    \n",
    "                    primary key (id)\n",
    "               );\n",
    "               \"\"\")"
   ]
  },
  {
   "cell_type": "code",
   "execution_count": 9,
   "metadata": {},
   "outputs": [],
   "source": [
    "cursor.execute('use dbproducts;')"
   ]
  },
  {
   "cell_type": "code",
   "execution_count": 10,
   "metadata": {},
   "outputs": [],
   "source": [
    "cursor.execute('show tables;')"
   ]
  },
  {
   "cell_type": "code",
   "execution_count": null,
   "metadata": {},
   "outputs": [],
   "source": [
    "for table in cursor:\n",
    "    print(table)"
   ]
  },
  {
   "cell_type": "markdown",
   "metadata": {},
   "source": [
    "### Inserindo Dados"
   ]
  },
  {
   "cell_type": "code",
   "execution_count": null,
   "metadata": {},
   "outputs": [],
   "source": [
    "for i, row in books_df.iterrows():\n",
    "    print(tuple(row))"
   ]
  },
  {
   "cell_type": "code",
   "execution_count": 13,
   "metadata": {},
   "outputs": [],
   "source": [
    "data_list = [tuple(row) for i, row in books_df.iterrows()]"
   ]
  },
  {
   "cell_type": "code",
   "execution_count": null,
   "metadata": {},
   "outputs": [],
   "source": [
    "sql = 'INSERT INTO dbproducts.books_table (id, latitude, longitude, number_of_installments, payment_type, place_of_purchase, price, product, product_category, purchase_evaluation, seller,shipping_fee, purchase_date) VALUES (%s, %s, %s, %s, %s, %s, %s, %s, %s, %s, %s, %s, %s)' \n",
    "\n",
    "cursor.executemany(sql, data_list)\n",
    "cnx.commit()"
   ]
  },
  {
   "cell_type": "code",
   "execution_count": null,
   "metadata": {},
   "outputs": [],
   "source": [
    "print(cursor.rowcount, 'dados inseridos')"
   ]
  },
  {
   "cell_type": "markdown",
   "metadata": {},
   "source": [
    "### Criando segunda tabela"
   ]
  },
  {
   "cell_type": "code",
   "execution_count": 16,
   "metadata": {},
   "outputs": [],
   "source": [
    "cursor.execute(\n",
    "    \"\"\"\n",
    "    CREATE TABLE IF NOT EXISTS dbproducts.products_sales_2021_present(\n",
    "        id VARCHAR(100),\n",
    "        product VARCHAR(100),\n",
    "        product_category VARCHAR(100),\n",
    "        price FLOAT(10,2),\n",
    "        shipping_fee FLOAT(10,2),\n",
    "        purchase_date DATE,\n",
    "        seller VARCHAR(100),\n",
    "        place_of_purchase VARCHAR(100),\n",
    "        purchase_evaluation INT,\n",
    "        payment_type VARCHAR(100),\n",
    "        number_of_installments INT,\n",
    "        latitude FLOAT(10,2),\n",
    "        longitude FLOAT(10,2),\n",
    "        \n",
    "        primary key (id)\n",
    "    );\n",
    "    \"\"\"\n",
    ")"
   ]
  },
  {
   "cell_type": "code",
   "execution_count": null,
   "metadata": {},
   "outputs": [],
   "source": [
    "cursor.execute('show tables;')\n",
    "\n",
    "for table in cursor:\n",
    "    print(table)"
   ]
  },
  {
   "cell_type": "code",
   "execution_count": null,
   "metadata": {},
   "outputs": [],
   "source": [
    "sales_data = pd.read_csv('../data-processed/products_sales_2021_present.csv')\n",
    "\n",
    "sales_data.drop('Unnamed: 0', axis='columns', inplace=True)\n",
    "\n",
    "sales_data.head()"
   ]
  },
  {
   "cell_type": "code",
   "execution_count": null,
   "metadata": {},
   "outputs": [],
   "source": [
    "sales_data.shape"
   ]
  },
  {
   "cell_type": "code",
   "execution_count": 33,
   "metadata": {},
   "outputs": [],
   "source": [
    "sales_list = [tuple(row) for index, row in sales_data.iterrows()]"
   ]
  },
  {
   "cell_type": "code",
   "execution_count": null,
   "metadata": {},
   "outputs": [],
   "source": [
    "for index, row in sales_data.iterrows():\n",
    "    print(tuple(row))"
   ]
  },
  {
   "cell_type": "code",
   "execution_count": 37,
   "metadata": {},
   "outputs": [],
   "source": [
    "sql = 'INSERT INTO dbproducts.products_sales_2021_present (id, latitude, longitude, number_of_installments, payment_type, place_of_purchase, price, product, product_category, purchase_evaluation, seller,shipping_fee, purchase_date) VALUES (%s, %s, %s, %s, %s, %s, %s, %s, %s, %s, %s, %s, %s);'\n",
    "\n",
    "cursor.executemany(sql, sales_list)\n",
    "cnx.commit()\n"
   ]
  },
  {
   "cell_type": "code",
   "execution_count": null,
   "metadata": {},
   "outputs": [],
   "source": [
    "print(cursor.rowcount, 'dados inseridos')"
   ]
  },
  {
   "cell_type": "markdown",
   "metadata": {},
   "source": [
    "# Visualizando Dados"
   ]
  },
  {
   "cell_type": "code",
   "execution_count": null,
   "metadata": {},
   "outputs": [],
   "source": [
    "cursor.execute(\n",
    "    \"\"\"\n",
    "    SELECT\n",
    "        *\n",
    "    FROM dbproducts.books_table\n",
    "    \"\"\"\n",
    ")"
   ]
  },
  {
   "cell_type": "code",
   "execution_count": null,
   "metadata": {},
   "outputs": [],
   "source": [
    "for row in cursor:\n",
    "    print(row)"
   ]
  },
  {
   "cell_type": "code",
   "execution_count": 45,
   "metadata": {},
   "outputs": [],
   "source": [
    "cursor.close()\n",
    "cnx.close()"
   ]
  }
 ],
 "metadata": {
  "kernelspec": {
   "display_name": "venv",
   "language": "python",
   "name": "python3"
  },
  "language_info": {
   "codemirror_mode": {
    "name": "ipython",
    "version": 3
   },
   "file_extension": ".py",
   "mimetype": "text/x-python",
   "name": "python",
   "nbconvert_exporter": "python",
   "pygments_lexer": "ipython3",
   "version": "3.10.12"
  }
 },
 "nbformat": 4,
 "nbformat_minor": 2
}
