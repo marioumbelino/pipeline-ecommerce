{
 "cells": [
  {
   "cell_type": "code",
   "execution_count": null,
   "metadata": {},
   "outputs": [],
   "source": [
    "# Connect to MongoDB\n",
    "from pymongo.mongo_client import MongoClient\n",
    "from pymongo.server_api import ServerApi\n",
    "\n",
    "with open('../data_base_key.txt', 'r') as file:\n",
    "    file_content = file.read()\n",
    "\n",
    "uri = file_content\n",
    "\n",
    "# Create a new client and connect to the server\n",
    "client = MongoClient(uri, server_api=ServerApi('1'))\n",
    "\n",
    "# Send a ping to confirm a successful connection\n",
    "try:\n",
    "    client.admin.command('ping')\n",
    "    print(\"Pinged your deployment. You successfully connected to MongoDB!\")\n",
    "except Exception as e:\n",
    "    print(e)"
   ]
  },
  {
   "cell_type": "markdown",
   "metadata": {},
   "source": [
    "## Read Data"
   ]
  },
  {
   "cell_type": "code",
   "execution_count": 2,
   "metadata": {},
   "outputs": [],
   "source": [
    "db = client['db_products']\n",
    "collection = db['products']"
   ]
  },
  {
   "cell_type": "code",
   "execution_count": null,
   "metadata": {},
   "outputs": [],
   "source": [
    "for document in collection.find():\n",
    "    print(document)"
   ]
  },
  {
   "cell_type": "code",
   "execution_count": null,
   "metadata": {},
   "outputs": [],
   "source": [
    "collection.update_many({}, {'$rename': {'Produto': 'product',\n",
    "                                        'Categoria do Produto': 'product category',\n",
    "                                        'Preço': 'price',\n",
    "                                        'Frete': 'shipping fee',\n",
    "                                        'Data da Compra': 'puchase data',\n",
    "                                        'Vendedor': 'seller',\n",
    "                                        'Local da compra': 'place of purchase',\n",
    "                                        'Avaliação da compra': 'purchase evaluation',\n",
    "                                        'Tipo de pagamento': 'payment type',\n",
    "                                        'Quantidade de parcelas': 'number of installments',\n",
    "                                        'lat': 'latitude',\n",
    "                                        'lon': 'longitude'}})"
   ]
  },
  {
   "cell_type": "code",
   "execution_count": null,
   "metadata": {},
   "outputs": [],
   "source": [
    "collection.find_one()"
   ]
  }
 ],
 "metadata": {
  "kernelspec": {
   "display_name": "venv",
   "language": "python",
   "name": "python3"
  },
  "language_info": {
   "codemirror_mode": {
    "name": "ipython",
    "version": 3
   },
   "file_extension": ".py",
   "mimetype": "text/x-python",
   "name": "python",
   "nbconvert_exporter": "python",
   "pygments_lexer": "ipython3",
   "version": "3.10.12"
  }
 },
 "nbformat": 4,
 "nbformat_minor": 2
}
